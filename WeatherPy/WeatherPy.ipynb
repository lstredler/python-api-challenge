{
 "cells": [
  {
   "cell_type": "markdown",
   "metadata": {},
   "source": [
    "# WeatherPy\n",
    "----\n",
    "\n",
    "#### Note\n",
    "* Instructions have been included for each segment. You do not have to follow them exactly, but they are included to help you think through the steps."
   ]
  },
  {
   "cell_type": "code",
   "execution_count": null,
   "metadata": {
    "scrolled": true
   },
   "outputs": [],
   "source": [
    "# Dependencies\n",
    "%matplotlib inline\n",
    "import matplotlib.pyplot as plt\n",
    "import pandas as pd\n",
    "import numpy as np\n",
    "import seaborn as sns\n",
    "import requests\n",
    "import time \n",
    "import urllib\n",
    "from scipy.stats import linregress\n",
    "import scipy.stats as st\n",
    "\n",
    "\n",
    "from api_keys import api_key\n",
    "\n",
    "from citipy import citipy\n",
    "\n",
    "# Output File (CSV)\n",
    "output_data_file = \"output_data/cities.csv\"\n",
    "\n",
    "#Range of lat and long\n",
    "lat_range = (-90,90)\n",
    "lng_range = (-180,180)"
   ]
  },
  {
   "cell_type": "code",
   "execution_count": null,
   "metadata": {},
   "outputs": [],
   "source": [
    "## DATA ANALYSIS \n",
    "\n",
    "#1)\n",
    "\n",
    "#2)\n",
    "\n",
    "#3) "
   ]
  },
  {
   "cell_type": "markdown",
   "metadata": {},
   "source": [
    "## Generate Cities List"
   ]
  },
  {
   "cell_type": "code",
   "execution_count": null,
   "metadata": {},
   "outputs": [],
   "source": [
    "# set up lists to hold reponse info\n",
    "lat_lngs = []\n",
    "cities = []\n",
    "\n",
    "\n",
    "#create a set of random lat and long combos \n",
    "lats = np.random.uniform(lat_range[0], lat_range[1], size = 1400)\n",
    "lngs = np.random.uniform(lng_range[0], lng_range[1], size = 1400)\n",
    "lat_lngs = zip(lats,lngs)\n",
    "\n",
    "\n",
    "# Loop through the list of cities and perform a request for data on each\n",
    "for lat_lng in lat_lngs:\n",
    "    city = citipy.nearest_city(lat_lng[0], lat_lng[1]).city_name\n",
    "    \n",
    "    if city not in cities: \n",
    "        cities.append(city)\n",
    "        \n",
    "len(cities)"
   ]
  },
  {
   "cell_type": "code",
   "execution_count": null,
   "metadata": {},
   "outputs": [],
   "source": [
    "#Build URL\n",
    "url = \"http://api.openweathermap.org/data/2.5/weather?\"\n",
    "units = \"imperial\" \n",
    "settings = {\"units\": \"imperial\", \"appid\": api_key}\n",
    "url = f\"{url}appid={api_key}&units={units}\""
   ]
  },
  {
   "cell_type": "code",
   "execution_count": null,
   "metadata": {},
   "outputs": [],
   "source": [
    "url"
   ]
  },
  {
   "cell_type": "markdown",
   "metadata": {},
   "source": [
    "### Perform API Calls\n",
    "* Perform a weather check on each city using a series of successive API calls.\n",
    "* Include a print log of each city as it'sbeing processed (with the city number and city name)."
   ]
  },
  {
   "cell_type": "code",
   "execution_count": null,
   "metadata": {},
   "outputs": [],
   "source": [
    "# Create empty lists to append the API data to \n",
    "latitude = []\n",
    "longitude = []\n",
    "temp_max = []\n",
    "humidity = []\n",
    "cloud_coverage = []\n",
    "wind_speed = []\n",
    "city_name = []\n",
    "country = []\n",
    "datetime = []\n",
    "\n",
    "# Start counter\n",
    "record_counter = 1\n",
    "\n",
    "#Print what curretly retrieving data for \n",
    "print(f\"Start Data Retrieval Process\")\n",
    "print(f\"-------------------------------\")\n",
    "\n",
    "#Loop through list of cities and append to empty lists \n",
    "for city in cities:  \n",
    "    try: \n",
    "        response = requests.get(f\"{url}&q={city}\").json() \n",
    "        latitude.append(response[\"coord\"][\"lat\"])\n",
    "        longitude.append(response[\"coord\"][\"lon\"])\n",
    "        temp_max.append(response[\"main\"][\"temp_max\"])\n",
    "        humidity.append(response[\"main\"][\"humidity\"])\n",
    "        cloud_coverage.append(response[\"clouds\"][\"all\"])\n",
    "        wind_speed.append(response[\"wind\"][\"speed\"])\n",
    "        city_name.append(response[\"name\"])\n",
    "        country.append(response[\"sys\"][\"country\"])\n",
    "        datetime.append(response[\"dt\"])\n",
    "        city_record = response[\"name\"]\n",
    "        print(f\"Processing Record {record_counter} | {city_record}\")\n",
    "        print(f\"{url}&q={city}\")\n",
    "        \n",
    "        record_counter= record_counter + 1        \n",
    "        \n",
    "    # Pass if city not found\n",
    "    except:\n",
    "        print(\"City not found\")\n",
    "    continue"
   ]
  },
  {
   "cell_type": "markdown",
   "metadata": {},
   "source": [
    "### Convert Raw Data to DataFrame\n",
    "* Export the city data into a .csv.\n",
    "* Display the DataFrame"
   ]
  },
  {
   "cell_type": "code",
   "execution_count": null,
   "metadata": {},
   "outputs": [],
   "source": [
    "# create a data frame from cities, lat, and temp\n",
    "city_weather_dict = {\n",
    "    \"City\": city_name,\n",
    "    \"Country\": country,\n",
    "    \"Latitude\": latitude,\n",
    "    \"Longitude\": longitude,\n",
    "    \"Max Temperature\": temp_max,\n",
    "    \"Humidity\": humidity,\n",
    "    \"Cloud coverage\": cloud_coverage,\n",
    "    \"Wind Speed\": wind_speed,\n",
    "    \"City datetime\": datetime\n",
    "}\n",
    "#create a data frame from the dictionary \n",
    "city_weather_df = pd.DataFrame(city_weather_dict)\n",
    "\n",
    "city_weather_df.count()\n"
   ]
  },
  {
   "cell_type": "code",
   "execution_count": null,
   "metadata": {},
   "outputs": [],
   "source": [
    "#a pandas dataframe is created and saved to a .csv from the data retrievied from the API \n",
    "\n",
    "city_weather_df.to_csv('city_weather_df.csv', encoding='utf-8', index=False)\n",
    "city_weather_df\n"
   ]
  },
  {
   "cell_type": "markdown",
   "metadata": {},
   "source": [
    "## Inspect the data and remove the cities where the humidity > 100%.\n",
    "----\n",
    "Skip this step if there are no cities that have humidity > 100%. "
   ]
  },
  {
   "cell_type": "code",
   "execution_count": null,
   "metadata": {},
   "outputs": [],
   "source": [
    "humidity= city_weather_df[\"Humidity\"].max()\n",
    "humidity"
   ]
  },
  {
   "cell_type": "markdown",
   "metadata": {},
   "source": [
    "## Plotting the Data\n",
    "* Use proper labeling of the plots using plot titles (including date of analysis) and axes labels.\n",
    "* Save the plotted figures as .pngs."
   ]
  },
  {
   "cell_type": "markdown",
   "metadata": {},
   "source": [
    "## Latitude vs. Temperature Plot"
   ]
  },
  {
   "cell_type": "code",
   "execution_count": null,
   "metadata": {},
   "outputs": [],
   "source": [
    "city_weather_df.plot.scatter(x=\"Latitude\", y= \"Max Temperature\",s=25, color = \"blue\", figsize=(12,7))\n",
    "plt.xlabel('Latitude')\n",
    "plt.ylabel('Max Temperature (F)')\n",
    "plt.title('City Latitude vs. Max Temperature (03/29/21)')\n",
    "plt.savefig(\"../WeatherPy/Weather_Images/Latitude_Temperature.png\")"
   ]
  },
  {
   "cell_type": "markdown",
   "metadata": {},
   "source": [
    "## Latitude vs. Humidity Plot"
   ]
  },
  {
   "cell_type": "code",
   "execution_count": null,
   "metadata": {},
   "outputs": [],
   "source": [
    "city_weather_df.plot.scatter(x=\"Latitude\", y= \"Humidity\",s=15, color = \"blue\",figsize=(12,7))\n",
    "plt.xlabel('Latitude')\n",
    "plt.ylabel('Humidity (%)')\n",
    "plt.title('City Latitude vs. Humidity (03/29/21)')\n",
    "plt.savefig(\"../WeatherPy/Weather_Images/Latitude_Humidity.png\")\n"
   ]
  },
  {
   "cell_type": "markdown",
   "metadata": {},
   "source": [
    "## Latitude vs. Cloudiness Plot"
   ]
  },
  {
   "cell_type": "code",
   "execution_count": null,
   "metadata": {},
   "outputs": [],
   "source": [
    "city_weather_df.plot.scatter(x=\"Latitude\", y= \"Cloud coverage\",s=25, color = \"blue\",figsize=(12,7))\n",
    "plt.xlabel('Latitude')\n",
    "plt.ylabel('Cloudiness (%)')\n",
    "plt.title('City Latitude vs. Cloudiness (03/29/21)')\n",
    "plt.savefig(\"../WeatherPy/Weather_Images/Latitude_Cloudiness.png\");"
   ]
  },
  {
   "cell_type": "markdown",
   "metadata": {},
   "source": [
    "## Latitude vs. Wind Speed Plot"
   ]
  },
  {
   "cell_type": "code",
   "execution_count": null,
   "metadata": {},
   "outputs": [],
   "source": [
    "city_weather_df.plot.scatter(x=\"Latitude\", y= \"Wind Speed\", marker = 'o',s=25, color = \"blue\",figsize=(12,7))\n",
    "plt.xlabel('Latitude')\n",
    "plt.ylabel('Wind Speed (mph)')\n",
    "plt.title('City Latitude vs. Wind Speed (mph) (03/29/21)')\n",
    "plt.savefig(\"../WeatherPy/Weather_Images/Latitude_Wind Speed.png\");"
   ]
  },
  {
   "cell_type": "code",
   "execution_count": null,
   "metadata": {},
   "outputs": [],
   "source": [
    "hem=city_weather_df.sort_values([\"Latitude\"], ascending=True)\n",
    "south = hem.head(177)\n",
    "north=hem.tail(359)"
   ]
  },
  {
   "cell_type": "markdown",
   "metadata": {},
   "source": [
    "## Linear Regression"
   ]
  },
  {
   "cell_type": "markdown",
   "metadata": {},
   "source": [
    "####  Northern Hemisphere - Max Temp vs. Latitude Linear Regression"
   ]
  },
  {
   "cell_type": "code",
   "execution_count": null,
   "metadata": {},
   "outputs": [],
   "source": [
    "north_temp = north.iloc[:,4]\n",
    "lat_plot = north.iloc[:,2]\n",
    "correlation = st.pearsonr(north_temp,lat_plot)\n",
    "\n",
    "\n",
    "(slope, intercept, rvalue, pvalue, stderr) = st.linregress(north_temp, lat_plot)\n",
    "regress_values = north_temp * slope + intercept\n",
    "line_eq = \"y = \" + str(round(slope,2)) + \"x + \" + str(round(intercept,2))\n",
    "plt.scatter(north_temp,lat_plot)\n",
    "plt.plot(north_temp,regress_values,\"r-\")\n",
    "plt.annotate(line_eq,(0,20),fontsize=15,color=\"red\")\n",
    "plt.xlabel('Latitude')\n",
    "plt.ylabel('Maximum Temperature (F)')\n",
    "plt.title(\"Northern Hemisphere Max Temp vs. Latitude Linear Regression\")\n",
    "plt.show()\n",
    "plt.savefig(\"../WeatherPy/Weather_Images/North_Temperature.png\")\n",
    "\n",
    "print(f\"The correlation coefficient for the northern hemisphere between max temp and latitude is {round(correlation[0],2)}\")"
   ]
  },
  {
   "cell_type": "markdown",
   "metadata": {},
   "source": [
    "####  Southern Hemisphere - Max Temp vs. Latitude Linear Regression"
   ]
  },
  {
   "cell_type": "code",
   "execution_count": null,
   "metadata": {},
   "outputs": [],
   "source": [
    "south_temp = south.iloc[:,4]\n",
    "lat_plot = south.iloc[:,2]\n",
    "correlation = st.pearsonr(south_temp,lat_plot)\n",
    "\n",
    "(slope, intercept, rvalue, pvalue, stderr) = st.linregress(south_temp, lat_plot)\n",
    "regress_values = south_temp * slope + intercept\n",
    "line_eq = \"y = \" + str(round(slope,2)) + \"x + \" + str(round(intercept,2))\n",
    "plt.scatter(south_temp,lat_plot)\n",
    "plt.plot(south_temp,regress_values,\"r-\")\n",
    "plt.annotate(line_eq,(75,-50),fontsize=15,color=\"red\")\n",
    "plt.xlabel('Latitude')\n",
    "plt.ylabel('Maximum Temperature (F)')\n",
    "plt.title(\"Southern Hemisphere Max Temp vs. Latitude Linear Regression\")\n",
    "plt.show()\n",
    "plt.savefig(\"../WeatherPy/Weather_Images/South_Temperature.png\")\n",
    "\n",
    "\n",
    "print(f\"The correlation coefficient for the southern hempisphere between max temp and latitude is {round(correlation[0],2)}\")"
   ]
  },
  {
   "cell_type": "markdown",
   "metadata": {},
   "source": [
    "####  Northern Hemisphere - Humidity (%) vs. Latitude Linear Regression"
   ]
  },
  {
   "cell_type": "code",
   "execution_count": null,
   "metadata": {},
   "outputs": [],
   "source": [
    "north_humidity = north.iloc[:,5]\n",
    "lat_plot = north.iloc[:,2]\n",
    "correlation = st.pearsonr(north_humidity,lat_plot)\n",
    "\n",
    "(slope, intercept, rvalue, pvalue, stderr) = st.linregress(north_humidity, lat_plot)\n",
    "regress_values = north_humidity * slope + intercept\n",
    "line_eq = \"y = \" + str(round(slope,2)) + \"x + \" + str(round(intercept,2))\n",
    "plt.scatter(north_humidity,lat_plot)\n",
    "plt.plot(north_humidity,regress_values,\"r-\")\n",
    "plt.annotate(line_eq,(15,70),fontsize=15,color=\"red\")\n",
    "plt.xlabel('Latitude')\n",
    "plt.ylabel('Humidity (%)')\n",
    "plt.title(\"Northern Hemisphere Humidity vs. Latitude Linear Regression\")\n",
    "plt.show()\n",
    "plt.savefig(\"../WeatherPy/Weather_Images/North_Humidity.png\")\n",
    "\n",
    "print(f\"The correlation coefficient for the northern hemisphere between humidity and latitude is {round(correlation[0],2)}\")"
   ]
  },
  {
   "cell_type": "markdown",
   "metadata": {},
   "source": [
    "####  Southern Hemisphere - Humidity (%) vs. Latitude Linear Regression"
   ]
  },
  {
   "cell_type": "code",
   "execution_count": null,
   "metadata": {},
   "outputs": [],
   "source": [
    "south_humidity = south.iloc[:,5]\n",
    "lat_plot = south.iloc[:,2]\n",
    "correlation = st.pearsonr(south_humidity,lat_plot)\n",
    "\n",
    "(slope, intercept, rvalue, pvalue, stderr) = st.linregress(south_humidity, lat_plot)\n",
    "regress_values = south_humidity * slope + intercept\n",
    "line_eq = \"y = \" + str(round(slope,2)) + \"x + \" + str(round(intercept,2))\n",
    "plt.scatter(south_humidity,lat_plot)\n",
    "plt.plot(south_humidity,regress_values,\"r-\")\n",
    "plt.annotate(line_eq,(20,-50),fontsize=15,color=\"red\")\n",
    "plt.xlabel('Latitude')\n",
    "plt.ylabel('Humidity (%)')\n",
    "plt.title(\"Southern Hemisphere Humidity vs. Latitude Linear Regression\")\n",
    "plt.show()\n",
    "plt.savefig(\"../WeatherPy/Weather_Images/South_Humidity.png\")\n",
    "\n",
    "\n",
    "print(f\"The correlation coefficient for the southern hemisphere between humidity and latitude is {round(correlation[0],2)}\")"
   ]
  },
  {
   "cell_type": "markdown",
   "metadata": {},
   "source": [
    "####  Northern Hemisphere - Cloudiness (%) vs. Latitude Linear Regression"
   ]
  },
  {
   "cell_type": "code",
   "execution_count": null,
   "metadata": {},
   "outputs": [],
   "source": [
    "north_cloud = north.iloc[:,6]\n",
    "lat_plot = north.iloc[:,2]\n",
    "correlation = st.pearsonr(north_cloud,lat_plot)\n",
    "\n",
    "(slope, intercept, rvalue, pvalue, stderr) = st.linregress(north_cloud, lat_plot)\n",
    "regress_values = north_cloud * slope + intercept\n",
    "line_eq = \"y = \" + str(round(slope,2)) + \"x + \" + str(round(intercept,2))\n",
    "plt.scatter(north_cloud,lat_plot)\n",
    "plt.plot(north_cloud,regress_values,\"r-\")\n",
    "plt.annotate(line_eq,(45,75),fontsize=15,color=\"red\")\n",
    "plt.xlabel('Latitude')\n",
    "plt.ylabel('Cloudiness (%)')\n",
    "plt.title(\"Northern Hemisphere Cloudiness vs. Latitude Linear Regression\")\n",
    "plt.show()\n",
    "plt.savefig(\"../WeatherPy/Weather_Images/North_Cloud.png\")\n",
    "\n",
    "\n",
    "print(f\"The correlation coefficient for the northern hemisphere between cloud coverage and latitude is {round(correlation[0],2)}\")"
   ]
  },
  {
   "cell_type": "markdown",
   "metadata": {},
   "source": [
    "####  Southern Hemisphere - Cloudiness (%) vs. Latitude Linear Regression"
   ]
  },
  {
   "cell_type": "code",
   "execution_count": null,
   "metadata": {},
   "outputs": [],
   "source": [
    "south_cloud = south.iloc[:,6]\n",
    "lat_plot = south.iloc[:,2]\n",
    "correlation = st.pearsonr(south_cloud,lat_plot)\n",
    "\n",
    "(slope, intercept, rvalue, pvalue, stderr) = st.linregress(south_cloud, lat_plot)\n",
    "regress_values = south_cloud * slope + intercept\n",
    "line_eq = \"y = \" + str(round(slope,2)) + \"x + \" + str(round(intercept,2))\n",
    "plt.scatter(south_cloud,lat_plot)\n",
    "plt.plot(south_cloud,regress_values,\"r-\")\n",
    "plt.annotate(line_eq,(40,-50),fontsize=15,color=\"red\")\n",
    "plt.xlabel('Latitude')\n",
    "plt.ylabel('Cloudiness (%)')\n",
    "plt.title(\"Southern Hemisphere Cloudiness vs. Latitude Linear Regression\")\n",
    "plt.show()\n",
    "plt.savefig(\"../WeatherPy/Weather_Images/South_Cloud.png\")\n",
    "\n",
    "\n",
    "print(f\"The correlation coefficient for the southern hemisphere between cloud coverage and latitude is {round(correlation[0],2)}\")"
   ]
  },
  {
   "cell_type": "markdown",
   "metadata": {},
   "source": [
    "####  Northern Hemisphere - Wind Speed (mph) vs. Latitude Linear Regression"
   ]
  },
  {
   "cell_type": "code",
   "execution_count": null,
   "metadata": {},
   "outputs": [],
   "source": [
    "north_wind = north.iloc[:,7]\n",
    "lat_plot = north.iloc[:,2]\n",
    "correlation = st.pearsonr(north_wind,lat_plot)\n",
    "\n",
    "(slope, intercept, rvalue, pvalue, stderr) = st.linregress(north_wind, lat_plot)\n",
    "regress_values = north_wind * slope + intercept\n",
    "line_eq = \"y = \" + str(round(slope,2)) + \"x + \" + str(round(intercept,2))\n",
    "plt.scatter(north_wind,lat_plot)\n",
    "plt.plot(north_wind,regress_values,\"r-\")\n",
    "plt.annotate(line_eq,(25,10),fontsize=15,color=\"red\")\n",
    "plt.xlabel('Latitude')\n",
    "plt.ylabel('Wind Speed (mph)')\n",
    "plt.title(\"Northern Wind Speed vs. Latitude Linear Regression\")\n",
    "plt.show()\n",
    "plt.savefig(\"../WeatherPy/Weather_Images/North_Wind.png\")\n",
    "\n",
    "\n",
    "print(f\"The correlation coefficient for the northern hemisphere between wind speed and latitude is {round(correlation[0],2)}\")"
   ]
  },
  {
   "cell_type": "markdown",
   "metadata": {},
   "source": [
    "####  Southern Hemisphere - Wind Speed (mph) vs. Latitude Linear Regression"
   ]
  },
  {
   "cell_type": "code",
   "execution_count": null,
   "metadata": {},
   "outputs": [],
   "source": [
    "south_wind = south.iloc[:,7]\n",
    "lat_plot = south.iloc[:,2]\n",
    "correlation = st.pearsonr(south_wind,lat_plot)\n",
    "\n",
    "(slope, intercept, rvalue, pvalue, stderr) = st.linregress(south_wind, lat_plot)\n",
    "regress_values = south_wind * slope + intercept\n",
    "line_eq = \"y = \" + str(round(slope,2)) + \"x + \" + str(round(intercept,2))\n",
    "plt.scatter(south_wind,lat_plot)\n",
    "plt.plot(south_wind,regress_values,\"r-\")\n",
    "plt.annotate(line_eq,(15,-50),fontsize=15,color=\"red\")\n",
    "plt.xlabel('Latitude')\n",
    "plt.ylabel('Wind Speed (mph)')\n",
    "plt.title(\"Southern Wind Speed vs. Latitude Linear Regression\")\n",
    "plt.show()\n",
    "plt.savefig(\"../WeatherPy/Weather_Images/South_Wind.png\")\n",
    "\n",
    "\n",
    "print(f\"The correlation coefficient for the southern hemisphere between wind speed and latitude is {round(correlation[0],2)}\")"
   ]
  },
  {
   "cell_type": "code",
   "execution_count": null,
   "metadata": {},
   "outputs": [],
   "source": []
  },
  {
   "cell_type": "code",
   "execution_count": null,
   "metadata": {},
   "outputs": [],
   "source": []
  },
  {
   "cell_type": "code",
   "execution_count": null,
   "metadata": {},
   "outputs": [],
   "source": []
  }
 ],
 "metadata": {
  "anaconda-cloud": {},
  "kernel_info": {
   "name": "python3"
  },
  "kernelspec": {
   "display_name": "Python 3",
   "language": "python",
   "name": "python3"
  },
  "language_info": {
   "codemirror_mode": {
    "name": "ipython",
    "version": 3
   },
   "file_extension": ".py",
   "mimetype": "text/x-python",
   "name": "python",
   "nbconvert_exporter": "python",
   "pygments_lexer": "ipython3",
   "version": "3.8.5"
  },
  "latex_envs": {
   "LaTeX_envs_menu_present": true,
   "autoclose": false,
   "autocomplete": true,
   "bibliofile": "biblio.bib",
   "cite_by": "apalike",
   "current_citInitial": 1,
   "eqLabelWithNumbers": true,
   "eqNumInitial": 1,
   "hotkeys": {
    "equation": "Ctrl-E",
    "itemize": "Ctrl-I"
   },
   "labels_anchors": false,
   "latex_user_defs": false,
   "report_style_numbering": false,
   "user_envs_cfg": false
  },
  "nteract": {
   "version": "0.12.3"
  }
 },
 "nbformat": 4,
 "nbformat_minor": 4
}
